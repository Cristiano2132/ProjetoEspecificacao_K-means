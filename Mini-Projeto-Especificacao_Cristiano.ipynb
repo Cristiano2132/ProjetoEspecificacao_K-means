{
 "cells": [
  {
   "cell_type": "markdown",
   "metadata": {},
   "source": [
    "# <font color='blue'>Data Science Academy - Machine Learning</font>\n",
    "\n",
    "# <font color='blue'>Capítulo 10 - Mini-Projeto - Agrupando Clientes Por Consumo de Energia</font>\n",
    "\n",
    "### Especificação"
   ]
  },
  {
   "cell_type": "markdown",
   "metadata": {},
   "source": [
    "A partir de dados de consumo de energia de clientes, nosso trabalho é agrupar os consumidores por similaridade a afim de compreender o comportamento dos clientes e sua relação com o consumo de energia."
   ]
  },
  {
   "cell_type": "markdown",
   "metadata": {},
   "source": [
    "<a class=\"anchor\" id=\"0.1\"></a>\n",
    "# Índice\n",
    "\n",
    "1.\t[Tratar os valores ausentes nos dados](#1)\n",
    "2.\t[Coletar uma amostra de 1% dos dados para criar o modelo de clusterização com o K-Means](#2)\n",
    "3.\t[Encontrar o melhor valor de K para esse conjunto de dados](#3)\n",
    "4.\t[Criar o modelo K-Means usando o valor de K encontrado no item 3](#4)\n",
    "5.\t[Criar um Meshgrid para visualização de todos os clusters](#5)\n",
    "6.\t[Visualizar os centróides](#6)\n",
    "7.\t[Calcular o Silhoutte Score](#7)\n",
    "8.\t[Calcular a média de consumo de energia por cluster (usar a coluna Global_active_power para o cálculo da média)](#8)\n",
    "\n"
   ]
  },
  {
   "cell_type": "code",
   "execution_count": 17,
   "metadata": {},
   "outputs": [],
   "source": [
    "# Imports\n",
    "import pandas as pd\n",
    "import numpy as np\n",
    "import matplotlib.pyplot as plt\n",
    "from matplotlib import pylab\n",
    "from sklearn.cluster import KMeans\n",
    "from sklearn.decomposition import PCA\n",
    "from sklearn.model_selection import train_test_split\n",
    "from scipy.spatial.distance import cdist, pdist\n",
    "from sklearn.metrics import silhouette_score\n",
    "import warnings\n",
    "warnings.filterwarnings(\"ignore\")\n",
    "%matplotlib inline"
   ]
  },
  {
   "cell_type": "markdown",
   "metadata": {},
   "source": [
    "https://archive.ics.uci.edu/ml/datasets/Individual+household+electric+power+consumption"
   ]
  },
  {
   "cell_type": "code",
   "execution_count": 18,
   "metadata": {},
   "outputs": [],
   "source": [
    "# Carregando os dados\n",
    "dataset = pd.read_csv('dados/household_power_consumption.txt', delimiter = ';', low_memory = False)"
   ]
  },
  {
   "cell_type": "code",
   "execution_count": 19,
   "metadata": {},
   "outputs": [
    {
     "data": {
      "text/html": [
       "<div>\n",
       "<style scoped>\n",
       "    .dataframe tbody tr th:only-of-type {\n",
       "        vertical-align: middle;\n",
       "    }\n",
       "\n",
       "    .dataframe tbody tr th {\n",
       "        vertical-align: top;\n",
       "    }\n",
       "\n",
       "    .dataframe thead th {\n",
       "        text-align: right;\n",
       "    }\n",
       "</style>\n",
       "<table border=\"1\" class=\"dataframe\">\n",
       "  <thead>\n",
       "    <tr style=\"text-align: right;\">\n",
       "      <th></th>\n",
       "      <th>Date</th>\n",
       "      <th>Time</th>\n",
       "      <th>Global_active_power</th>\n",
       "      <th>Global_reactive_power</th>\n",
       "      <th>Voltage</th>\n",
       "      <th>Global_intensity</th>\n",
       "      <th>Sub_metering_1</th>\n",
       "      <th>Sub_metering_2</th>\n",
       "      <th>Sub_metering_3</th>\n",
       "    </tr>\n",
       "  </thead>\n",
       "  <tbody>\n",
       "    <tr>\n",
       "      <th>0</th>\n",
       "      <td>16/12/2006</td>\n",
       "      <td>17:24:00</td>\n",
       "      <td>4.216</td>\n",
       "      <td>0.418</td>\n",
       "      <td>234.840</td>\n",
       "      <td>18.400</td>\n",
       "      <td>0.000</td>\n",
       "      <td>1.000</td>\n",
       "      <td>17.0</td>\n",
       "    </tr>\n",
       "    <tr>\n",
       "      <th>1</th>\n",
       "      <td>16/12/2006</td>\n",
       "      <td>17:25:00</td>\n",
       "      <td>5.360</td>\n",
       "      <td>0.436</td>\n",
       "      <td>233.630</td>\n",
       "      <td>23.000</td>\n",
       "      <td>0.000</td>\n",
       "      <td>1.000</td>\n",
       "      <td>16.0</td>\n",
       "    </tr>\n",
       "    <tr>\n",
       "      <th>2</th>\n",
       "      <td>16/12/2006</td>\n",
       "      <td>17:26:00</td>\n",
       "      <td>5.374</td>\n",
       "      <td>0.498</td>\n",
       "      <td>233.290</td>\n",
       "      <td>23.000</td>\n",
       "      <td>0.000</td>\n",
       "      <td>2.000</td>\n",
       "      <td>17.0</td>\n",
       "    </tr>\n",
       "    <tr>\n",
       "      <th>3</th>\n",
       "      <td>16/12/2006</td>\n",
       "      <td>17:27:00</td>\n",
       "      <td>5.388</td>\n",
       "      <td>0.502</td>\n",
       "      <td>233.740</td>\n",
       "      <td>23.000</td>\n",
       "      <td>0.000</td>\n",
       "      <td>1.000</td>\n",
       "      <td>17.0</td>\n",
       "    </tr>\n",
       "    <tr>\n",
       "      <th>4</th>\n",
       "      <td>16/12/2006</td>\n",
       "      <td>17:28:00</td>\n",
       "      <td>3.666</td>\n",
       "      <td>0.528</td>\n",
       "      <td>235.680</td>\n",
       "      <td>15.800</td>\n",
       "      <td>0.000</td>\n",
       "      <td>1.000</td>\n",
       "      <td>17.0</td>\n",
       "    </tr>\n",
       "  </tbody>\n",
       "</table>\n",
       "</div>"
      ],
      "text/plain": [
       "         Date      Time Global_active_power Global_reactive_power  Voltage  \\\n",
       "0  16/12/2006  17:24:00               4.216                 0.418  234.840   \n",
       "1  16/12/2006  17:25:00               5.360                 0.436  233.630   \n",
       "2  16/12/2006  17:26:00               5.374                 0.498  233.290   \n",
       "3  16/12/2006  17:27:00               5.388                 0.502  233.740   \n",
       "4  16/12/2006  17:28:00               3.666                 0.528  235.680   \n",
       "\n",
       "  Global_intensity Sub_metering_1 Sub_metering_2  Sub_metering_3  \n",
       "0           18.400          0.000          1.000            17.0  \n",
       "1           23.000          0.000          1.000            16.0  \n",
       "2           23.000          0.000          2.000            17.0  \n",
       "3           23.000          0.000          1.000            17.0  \n",
       "4           15.800          0.000          1.000            17.0  "
      ]
     },
     "execution_count": 19,
     "metadata": {},
     "output_type": "execute_result"
    }
   ],
   "source": [
    "dataset.head()"
   ]
  },
  {
   "cell_type": "code",
   "execution_count": 22,
   "metadata": {},
   "outputs": [],
   "source": [
    "nl1,nc1=dataset.shape"
   ]
  },
  {
   "cell_type": "code",
   "execution_count": 23,
   "metadata": {},
   "outputs": [
    {
     "name": "stdout",
     "output_type": "stream",
     "text": [
      "O tamanho dos dados é : (2075259, 9) \n"
     ]
    }
   ],
   "source": [
    "#check the numbers of samples and features\n",
    "print(\"O tamanho dos dados é : {} \".format(dataset.shape))\n"
   ]
  },
  {
   "cell_type": "code",
   "execution_count": 24,
   "metadata": {},
   "outputs": [
    {
     "data": {
      "text/plain": [
       "Index(['Data', 'Hora', 'Potencia_ativa_global', 'Potencia_reativa_global',\n",
       "       'Voltagem', 'Intensidade_global', 'Sub-medicao_1', 'Sub-medicao_2',\n",
       "       'Sub-medicao_3'],\n",
       "      dtype='object')"
      ]
     },
     "execution_count": 24,
     "metadata": {},
     "output_type": "execute_result"
    }
   ],
   "source": [
    "col_names = [ 'Data','Hora','Potencia_ativa_global','Potencia_reativa_global','Voltagem','Intensidade_global','Sub-medicao_1','Sub-medicao_2',\n",
    "             'Sub-medicao_3']\n",
    "dataset.columns = col_names\n",
    "\n",
    "dataset.columns"
   ]
  },
  {
   "cell_type": "code",
   "execution_count": 25,
   "metadata": {},
   "outputs": [
    {
     "name": "stdout",
     "output_type": "stream",
     "text": [
      "<class 'pandas.core.frame.DataFrame'>\n",
      "RangeIndex: 2075259 entries, 0 to 2075258\n",
      "Data columns (total 9 columns):\n",
      "Data                       object\n",
      "Hora                       object\n",
      "Potencia_ativa_global      object\n",
      "Potencia_reativa_global    object\n",
      "Voltagem                   object\n",
      "Intensidade_global         object\n",
      "Sub-medicao_1              object\n",
      "Sub-medicao_2              object\n",
      "Sub-medicao_3              float64\n",
      "dtypes: float64(1), object(8)\n",
      "memory usage: 142.5+ MB\n"
     ]
    }
   ],
   "source": [
    "dataset.info()"
   ]
  },
  {
   "cell_type": "markdown",
   "metadata": {},
   "source": [
    "#### 0. Tipos de variáveis\n",
    "\n",
    "Nesta seção, separareos o conjunto de dados em variáveis **categóricas e numéricas**. Há uma mistura de variáveis categóricas e numéricas no conjunto de dados. Variáveis **categóricas** possuem tipo de dados **object**. Variáveis numéricas têm o tipo de dados **int64**."
   ]
  },
  {
   "cell_type": "code",
   "execution_count": 26,
   "metadata": {},
   "outputs": [
    {
     "name": "stdout",
     "output_type": "stream",
     "text": [
      "Número de variáveis numéricas:  1\n",
      "Número de variáveis categóricas:  8\n",
      "As variáveis categóricas são:\n",
      "\n",
      " ['Data', 'Hora', 'Potencia_ativa_global', 'Potencia_reativa_global', 'Voltagem', 'Intensidade_global', 'Sub-medicao_1', 'Sub-medicao_2']\n"
     ]
    }
   ],
   "source": [
    "# Encontra as variáveis categóricas\n",
    "\n",
    "categorical = [var for var in dataset.columns if dataset[var].dtype=='O']\n",
    "\n",
    "numerical_feats = dataset.dtypes[dataset.dtypes != \"object\"].index\n",
    "print(\"Número de variáveis numéricas: \", len(numerical_feats))\n",
    "\n",
    "categorical_feats = dataset.dtypes[dataset.dtypes == \"object\"].index\n",
    "print(\"Número de variáveis categóricas: \", len(categorical_feats))\n",
    "\n",
    "print('As variáveis categóricas são:\\n\\n', categorical)"
   ]
  },
  {
   "cell_type": "markdown",
   "metadata": {},
   "source": [
    "### 1. Tratar os valores ausentes nos dados <a class=\"anchor\" id=\"1\"></a>\n",
    "\n",
    "[](#0.1)"
   ]
  },
  {
   "cell_type": "code",
   "execution_count": 27,
   "metadata": {},
   "outputs": [
    {
     "data": {
      "text/plain": [
       "Data                       0\n",
       "Hora                       0\n",
       "Potencia_ativa_global      0\n",
       "Potencia_reativa_global    0\n",
       "Voltagem                   0\n",
       "Intensidade_global         0\n",
       "Sub-medicao_1              0\n",
       "Sub-medicao_2              0\n",
       "dtype: int64"
      ]
     },
     "execution_count": 27,
     "metadata": {},
     "output_type": "execute_result"
    }
   ],
   "source": [
    "dataset[categorical].isnull().sum()"
   ]
  },
  {
   "cell_type": "markdown",
   "metadata": {},
   "source": [
    "Podemos ver que não há valores ausentes nas variáveis categóricas."
   ]
  },
  {
   "cell_type": "code",
   "execution_count": 28,
   "metadata": {},
   "outputs": [
    {
     "name": "stdout",
     "output_type": "stream",
     "text": [
      "1/10/2007     1440\n",
      "26/8/2007     1440\n",
      "15/12/2007    1440\n",
      "14/2/2010     1440\n",
      "11/3/2008     1440\n",
      "              ... \n",
      "29/10/2008    1440\n",
      "22/4/2010     1440\n",
      "15/9/2007     1440\n",
      "26/11/2010    1263\n",
      "16/12/2006     396\n",
      "Name: Data, Length: 1442, dtype: int64\n",
      "19:51:00    1442\n",
      "19:13:00    1442\n",
      "19:15:00    1442\n",
      "19:10:00    1442\n",
      "19:32:00    1442\n",
      "            ... \n",
      "06:56:00    1441\n",
      "02:22:00    1441\n",
      "01:34:00    1441\n",
      "09:44:00    1441\n",
      "07:33:00    1441\n",
      "Name: Hora, Length: 1440, dtype: int64\n",
      "?        25979\n",
      "0.218     9565\n",
      "0.216     9363\n",
      "0.322     9350\n",
      "0.324     9304\n",
      "         ...  \n",
      "9.656        1\n",
      "7.264        1\n",
      "8.038        1\n",
      "7.956        1\n",
      "8.916        1\n",
      "Name: Potencia_ativa_global, Length: 4187, dtype: int64\n",
      "0.000    481561\n",
      "?         25979\n",
      "0.100     21902\n",
      "0.092     21841\n",
      "0.098     21812\n",
      "          ...  \n",
      "1.000         1\n",
      "0.950         1\n",
      "1.074         1\n",
      "1.240         1\n",
      "1.198         1\n",
      "Name: Potencia_reativa_global, Length: 533, dtype: int64\n",
      "?          25979\n",
      "241.180     3559\n",
      "241.120     3289\n",
      "241.350     3285\n",
      "241.020     3284\n",
      "           ...  \n",
      "224.600        1\n",
      "253.290        1\n",
      "224.850        1\n",
      "253.750        1\n",
      "253.040        1\n",
      "Name: Voltagem, Length: 2838, dtype: int64\n",
      "1.000     172785\n",
      "1.400     164720\n",
      "1.200     140425\n",
      "1.600     118212\n",
      "1.800      95395\n",
      "           ...  \n",
      "42.600         1\n",
      "42.200         1\n",
      "43.200         1\n",
      "40.000         1\n",
      "40.600         1\n",
      "Name: Intensidade_global, Length: 222, dtype: int64\n",
      "0.000     1880175\n",
      "1.000       84936\n",
      "?           25979\n",
      "2.000       19017\n",
      "38.000      16119\n",
      "           ...   \n",
      "87.000          3\n",
      "88.000          3\n",
      "82.000          3\n",
      "84.000          2\n",
      "86.000          2\n",
      "Name: Sub-medicao_1, Length: 89, dtype: int64\n",
      "0.000     1436830\n",
      "1.000      378224\n",
      "2.000      157075\n",
      "?           25979\n",
      "3.000        7189\n",
      "           ...   \n",
      "50.000         32\n",
      "77.000         24\n",
      "79.000          8\n",
      "78.000          3\n",
      "80.000          2\n",
      "Name: Sub-medicao_2, Length: 82, dtype: int64\n"
     ]
    }
   ],
   "source": [
    "# visualizar contagens de frequência de valores em variáveis categóricas\n",
    "\n",
    "for var in categorical:\n",
    "    print(dataset[var].value_counts())"
   ]
  },
  {
   "cell_type": "markdown",
   "metadata": {},
   "source": [
    "Agora, podemos ver que existem várias variáveis como `classe de trabalho`, `ocupacao` e `pais` que contêm valores ausentes. Geralmente, os valores ausentes são codificados como `NaN` e python os detectará com o comando usual de df.isnull().sum().\n",
    "\n",
    "Mas, neste caso, os valores ausentes são codificados como `?`. O Python falha ao detectá-los como valores ausentes, porque não os considera `?` como valores ausentes. Então, é necessároio substituir `?` com `NaN` para que o Python possa detectar esses valores ausentes."
   ]
  },
  {
   "cell_type": "code",
   "execution_count": 29,
   "metadata": {},
   "outputs": [],
   "source": [
    "dataset.replace('?', np.NaN, inplace=True)"
   ]
  },
  {
   "cell_type": "code",
   "execution_count": 30,
   "metadata": {},
   "outputs": [],
   "source": [
    "def resumo(df): \n",
    "    obs = df.shape[0]\n",
    "    types = df.dtypes\n",
    "    counts = df.apply(lambda x: x.count())\n",
    "    uniques = df.apply(lambda x: [x.unique()])\n",
    "    nulls = df.apply(lambda x: x.isnull().sum())\n",
    "    distincts = df.apply(lambda x: x.unique().shape[0])\n",
    "    missing_ration = (df.isnull().sum()/ obs) * 100\n",
    "    skewness = df.skew()\n",
    "    kurtosis = df.kurt() \n",
    "    print('Data shape:', df.shape)\n",
    "    \n",
    "    cols = ['Tipo', 'Counts', 'Distintos', 'Nulos', 'Nulos (%)', 'Uniques']\n",
    "    str = pd.concat([types, counts, distincts, nulls, missing_ration, uniques], axis = 1)\n",
    "\n",
    "    str.columns = cols\n",
    "    dtypes = str.Tipo.value_counts()\n",
    "    print('___________________________\\nData types:\\n',str.Tipo.value_counts())\n",
    "    print('___________________________')\n",
    "    return str"
   ]
  },
  {
   "cell_type": "code",
   "execution_count": 31,
   "metadata": {},
   "outputs": [
    {
     "name": "stdout",
     "output_type": "stream",
     "text": [
      "Data shape: (2075259, 9)\n",
      "___________________________\n",
      "Data types:\n",
      " object     8\n",
      "float64    1\n",
      "Name: Tipo, dtype: int64\n",
      "___________________________\n"
     ]
    },
    {
     "data": {
      "text/html": [
       "<div>\n",
       "<style scoped>\n",
       "    .dataframe tbody tr th:only-of-type {\n",
       "        vertical-align: middle;\n",
       "    }\n",
       "\n",
       "    .dataframe tbody tr th {\n",
       "        vertical-align: top;\n",
       "    }\n",
       "\n",
       "    .dataframe thead th {\n",
       "        text-align: right;\n",
       "    }\n",
       "</style>\n",
       "<table border=\"1\" class=\"dataframe\">\n",
       "  <thead>\n",
       "    <tr style=\"text-align: right;\">\n",
       "      <th></th>\n",
       "      <th>Tipo</th>\n",
       "      <th>Counts</th>\n",
       "      <th>Distintos</th>\n",
       "      <th>Nulos</th>\n",
       "      <th>Nulos (%)</th>\n",
       "      <th>Uniques</th>\n",
       "    </tr>\n",
       "  </thead>\n",
       "  <tbody>\n",
       "    <tr>\n",
       "      <th>Potencia_ativa_global</th>\n",
       "      <td>object</td>\n",
       "      <td>2049280</td>\n",
       "      <td>4187</td>\n",
       "      <td>25979</td>\n",
       "      <td>1.251844</td>\n",
       "      <td>[[4.216, 5.360, 5.374, 5.388, 3.666, 3.520, 3....</td>\n",
       "    </tr>\n",
       "    <tr>\n",
       "      <th>Potencia_reativa_global</th>\n",
       "      <td>object</td>\n",
       "      <td>2049280</td>\n",
       "      <td>533</td>\n",
       "      <td>25979</td>\n",
       "      <td>1.251844</td>\n",
       "      <td>[[0.418, 0.436, 0.498, 0.502, 0.528, 0.522, 0....</td>\n",
       "    </tr>\n",
       "    <tr>\n",
       "      <th>Voltagem</th>\n",
       "      <td>object</td>\n",
       "      <td>2049280</td>\n",
       "      <td>2838</td>\n",
       "      <td>25979</td>\n",
       "      <td>1.251844</td>\n",
       "      <td>[[234.840, 233.630, 233.290, 233.740, 235.680,...</td>\n",
       "    </tr>\n",
       "    <tr>\n",
       "      <th>Intensidade_global</th>\n",
       "      <td>object</td>\n",
       "      <td>2049280</td>\n",
       "      <td>222</td>\n",
       "      <td>25979</td>\n",
       "      <td>1.251844</td>\n",
       "      <td>[[18.400, 23.000, 15.800, 15.000, 19.600, 23.2...</td>\n",
       "    </tr>\n",
       "    <tr>\n",
       "      <th>Sub-medicao_1</th>\n",
       "      <td>object</td>\n",
       "      <td>2049280</td>\n",
       "      <td>89</td>\n",
       "      <td>25979</td>\n",
       "      <td>1.251844</td>\n",
       "      <td>[[0.000, 1.000, 2.000, 6.000, 37.000, 36.000, ...</td>\n",
       "    </tr>\n",
       "    <tr>\n",
       "      <th>Sub-medicao_2</th>\n",
       "      <td>object</td>\n",
       "      <td>2049280</td>\n",
       "      <td>82</td>\n",
       "      <td>25979</td>\n",
       "      <td>1.251844</td>\n",
       "      <td>[[1.000, 2.000, 0.000, 16.000, 37.000, 36.000,...</td>\n",
       "    </tr>\n",
       "    <tr>\n",
       "      <th>Sub-medicao_3</th>\n",
       "      <td>float64</td>\n",
       "      <td>2049280</td>\n",
       "      <td>33</td>\n",
       "      <td>25979</td>\n",
       "      <td>1.251844</td>\n",
       "      <td>[[17.0, 16.0, 18.0, 9.0, 0.0, 5.0, 19.0, 10.0,...</td>\n",
       "    </tr>\n",
       "    <tr>\n",
       "      <th>Data</th>\n",
       "      <td>object</td>\n",
       "      <td>2075259</td>\n",
       "      <td>1442</td>\n",
       "      <td>0</td>\n",
       "      <td>0.000000</td>\n",
       "      <td>[[16/12/2006, 17/12/2006, 18/12/2006, 19/12/20...</td>\n",
       "    </tr>\n",
       "    <tr>\n",
       "      <th>Hora</th>\n",
       "      <td>object</td>\n",
       "      <td>2075259</td>\n",
       "      <td>1440</td>\n",
       "      <td>0</td>\n",
       "      <td>0.000000</td>\n",
       "      <td>[[17:24:00, 17:25:00, 17:26:00, 17:27:00, 17:2...</td>\n",
       "    </tr>\n",
       "  </tbody>\n",
       "</table>\n",
       "</div>"
      ],
      "text/plain": [
       "                            Tipo   Counts  Distintos  Nulos  Nulos (%)  \\\n",
       "Potencia_ativa_global     object  2049280       4187  25979   1.251844   \n",
       "Potencia_reativa_global   object  2049280        533  25979   1.251844   \n",
       "Voltagem                  object  2049280       2838  25979   1.251844   \n",
       "Intensidade_global        object  2049280        222  25979   1.251844   \n",
       "Sub-medicao_1             object  2049280         89  25979   1.251844   \n",
       "Sub-medicao_2             object  2049280         82  25979   1.251844   \n",
       "Sub-medicao_3            float64  2049280         33  25979   1.251844   \n",
       "Data                      object  2075259       1442      0   0.000000   \n",
       "Hora                      object  2075259       1440      0   0.000000   \n",
       "\n",
       "                                                                   Uniques  \n",
       "Potencia_ativa_global    [[4.216, 5.360, 5.374, 5.388, 3.666, 3.520, 3....  \n",
       "Potencia_reativa_global  [[0.418, 0.436, 0.498, 0.502, 0.528, 0.522, 0....  \n",
       "Voltagem                 [[234.840, 233.630, 233.290, 233.740, 235.680,...  \n",
       "Intensidade_global       [[18.400, 23.000, 15.800, 15.000, 19.600, 23.2...  \n",
       "Sub-medicao_1            [[0.000, 1.000, 2.000, 6.000, 37.000, 36.000, ...  \n",
       "Sub-medicao_2            [[1.000, 2.000, 0.000, 16.000, 37.000, 36.000,...  \n",
       "Sub-medicao_3            [[17.0, 16.0, 18.0, 9.0, 0.0, 5.0, 19.0, 10.0,...  \n",
       "Data                     [[16/12/2006, 17/12/2006, 18/12/2006, 19/12/20...  \n",
       "Hora                     [[17:24:00, 17:25:00, 17:26:00, 17:27:00, 17:2...  "
      ]
     },
     "metadata": {},
     "output_type": "display_data"
    }
   ],
   "source": [
    "details = resumo(dataset)\n",
    "display(details.sort_values(by='Nulos', ascending=False))"
   ]
  },
  {
   "cell_type": "code",
   "execution_count": 32,
   "metadata": {},
   "outputs": [],
   "source": [
    "convert_list=['Potencia_ativa_global', 'Potencia_reativa_global', 'Voltagem', 'Intensidade_global', 'Sub-medicao_1', 'Sub-medicao_2']\n",
    "for variavel in convert_list:\n",
    "    dataset[variavel] = pd.to_numeric(dataset[variavel])"
   ]
  },
  {
   "cell_type": "code",
   "execution_count": 33,
   "metadata": {},
   "outputs": [
    {
     "name": "stdout",
     "output_type": "stream",
     "text": [
      "<class 'pandas.core.frame.DataFrame'>\n",
      "RangeIndex: 2075259 entries, 0 to 2075258\n",
      "Data columns (total 9 columns):\n",
      "Data                       object\n",
      "Hora                       object\n",
      "Potencia_ativa_global      float64\n",
      "Potencia_reativa_global    float64\n",
      "Voltagem                   float64\n",
      "Intensidade_global         float64\n",
      "Sub-medicao_1              float64\n",
      "Sub-medicao_2              float64\n",
      "Sub-medicao_3              float64\n",
      "dtypes: float64(7), object(2)\n",
      "memory usage: 142.5+ MB\n"
     ]
    }
   ],
   "source": [
    "dataset.info()"
   ]
  },
  {
   "cell_type": "markdown",
   "metadata": {},
   "source": [
    "Observe agora que Agora as variáveis numéricas foram convertidas em de object para float64. Além disso substituimos `?` por `NaN`, e pudemos verificar que várias das nossas variáveis possuem valores ausentes os quais devem ser tratados. Parta tanto iremos remover as observações com valores ausentes."
   ]
  },
  {
   "cell_type": "code",
   "execution_count": 34,
   "metadata": {},
   "outputs": [],
   "source": [
    "dataset.dropna(inplace=True)"
   ]
  },
  {
   "cell_type": "code",
   "execution_count": 35,
   "metadata": {},
   "outputs": [],
   "source": [
    "nl2,nc2=dataset.shape"
   ]
  },
  {
   "cell_type": "code",
   "execution_count": 36,
   "metadata": {},
   "outputs": [
    {
     "name": "stdout",
     "output_type": "stream",
     "text": [
      "Data shape: (2049280, 9)\n",
      "___________________________\n",
      "Data types:\n",
      " float64    7\n",
      "object     2\n",
      "Name: Tipo, dtype: int64\n",
      "___________________________\n"
     ]
    },
    {
     "data": {
      "text/html": [
       "<div>\n",
       "<style scoped>\n",
       "    .dataframe tbody tr th:only-of-type {\n",
       "        vertical-align: middle;\n",
       "    }\n",
       "\n",
       "    .dataframe tbody tr th {\n",
       "        vertical-align: top;\n",
       "    }\n",
       "\n",
       "    .dataframe thead th {\n",
       "        text-align: right;\n",
       "    }\n",
       "</style>\n",
       "<table border=\"1\" class=\"dataframe\">\n",
       "  <thead>\n",
       "    <tr style=\"text-align: right;\">\n",
       "      <th></th>\n",
       "      <th>Tipo</th>\n",
       "      <th>Counts</th>\n",
       "      <th>Distintos</th>\n",
       "      <th>Nulos</th>\n",
       "      <th>Nulos (%)</th>\n",
       "      <th>Uniques</th>\n",
       "    </tr>\n",
       "  </thead>\n",
       "  <tbody>\n",
       "    <tr>\n",
       "      <th>Data</th>\n",
       "      <td>object</td>\n",
       "      <td>2049280</td>\n",
       "      <td>1433</td>\n",
       "      <td>0</td>\n",
       "      <td>0.0</td>\n",
       "      <td>[[16/12/2006, 17/12/2006, 18/12/2006, 19/12/20...</td>\n",
       "    </tr>\n",
       "    <tr>\n",
       "      <th>Hora</th>\n",
       "      <td>object</td>\n",
       "      <td>2049280</td>\n",
       "      <td>1440</td>\n",
       "      <td>0</td>\n",
       "      <td>0.0</td>\n",
       "      <td>[[17:24:00, 17:25:00, 17:26:00, 17:27:00, 17:2...</td>\n",
       "    </tr>\n",
       "    <tr>\n",
       "      <th>Potencia_ativa_global</th>\n",
       "      <td>float64</td>\n",
       "      <td>2049280</td>\n",
       "      <td>4186</td>\n",
       "      <td>0</td>\n",
       "      <td>0.0</td>\n",
       "      <td>[[4.216, 5.36, 5.374, 5.388, 3.666000000000000...</td>\n",
       "    </tr>\n",
       "    <tr>\n",
       "      <th>Potencia_reativa_global</th>\n",
       "      <td>float64</td>\n",
       "      <td>2049280</td>\n",
       "      <td>532</td>\n",
       "      <td>0</td>\n",
       "      <td>0.0</td>\n",
       "      <td>[[0.418, 0.436, 0.498, 0.502, 0.528, 0.522, 0....</td>\n",
       "    </tr>\n",
       "    <tr>\n",
       "      <th>Voltagem</th>\n",
       "      <td>float64</td>\n",
       "      <td>2049280</td>\n",
       "      <td>2837</td>\n",
       "      <td>0</td>\n",
       "      <td>0.0</td>\n",
       "      <td>[[234.84, 233.63, 233.29, 233.74, 235.68, 235....</td>\n",
       "    </tr>\n",
       "    <tr>\n",
       "      <th>Intensidade_global</th>\n",
       "      <td>float64</td>\n",
       "      <td>2049280</td>\n",
       "      <td>221</td>\n",
       "      <td>0</td>\n",
       "      <td>0.0</td>\n",
       "      <td>[[18.4, 23.0, 15.8, 15.0, 19.6, 23.2, 22.4, 22...</td>\n",
       "    </tr>\n",
       "    <tr>\n",
       "      <th>Sub-medicao_1</th>\n",
       "      <td>float64</td>\n",
       "      <td>2049280</td>\n",
       "      <td>88</td>\n",
       "      <td>0</td>\n",
       "      <td>0.0</td>\n",
       "      <td>[[0.0, 1.0, 2.0, 6.0, 37.0, 36.0, 38.0, 25.0, ...</td>\n",
       "    </tr>\n",
       "    <tr>\n",
       "      <th>Sub-medicao_2</th>\n",
       "      <td>float64</td>\n",
       "      <td>2049280</td>\n",
       "      <td>81</td>\n",
       "      <td>0</td>\n",
       "      <td>0.0</td>\n",
       "      <td>[[1.0, 2.0, 0.0, 16.0, 37.0, 36.0, 22.0, 12.0,...</td>\n",
       "    </tr>\n",
       "    <tr>\n",
       "      <th>Sub-medicao_3</th>\n",
       "      <td>float64</td>\n",
       "      <td>2049280</td>\n",
       "      <td>32</td>\n",
       "      <td>0</td>\n",
       "      <td>0.0</td>\n",
       "      <td>[[17.0, 16.0, 18.0, 9.0, 0.0, 5.0, 19.0, 10.0,...</td>\n",
       "    </tr>\n",
       "  </tbody>\n",
       "</table>\n",
       "</div>"
      ],
      "text/plain": [
       "                            Tipo   Counts  Distintos  Nulos  Nulos (%)  \\\n",
       "Data                      object  2049280       1433      0        0.0   \n",
       "Hora                      object  2049280       1440      0        0.0   \n",
       "Potencia_ativa_global    float64  2049280       4186      0        0.0   \n",
       "Potencia_reativa_global  float64  2049280        532      0        0.0   \n",
       "Voltagem                 float64  2049280       2837      0        0.0   \n",
       "Intensidade_global       float64  2049280        221      0        0.0   \n",
       "Sub-medicao_1            float64  2049280         88      0        0.0   \n",
       "Sub-medicao_2            float64  2049280         81      0        0.0   \n",
       "Sub-medicao_3            float64  2049280         32      0        0.0   \n",
       "\n",
       "                                                                   Uniques  \n",
       "Data                     [[16/12/2006, 17/12/2006, 18/12/2006, 19/12/20...  \n",
       "Hora                     [[17:24:00, 17:25:00, 17:26:00, 17:27:00, 17:2...  \n",
       "Potencia_ativa_global    [[4.216, 5.36, 5.374, 5.388, 3.666000000000000...  \n",
       "Potencia_reativa_global  [[0.418, 0.436, 0.498, 0.502, 0.528, 0.522, 0....  \n",
       "Voltagem                 [[234.84, 233.63, 233.29, 233.74, 235.68, 235....  \n",
       "Intensidade_global       [[18.4, 23.0, 15.8, 15.0, 19.6, 23.2, 22.4, 22...  \n",
       "Sub-medicao_1            [[0.0, 1.0, 2.0, 6.0, 37.0, 36.0, 38.0, 25.0, ...  \n",
       "Sub-medicao_2            [[1.0, 2.0, 0.0, 16.0, 37.0, 36.0, 22.0, 12.0,...  \n",
       "Sub-medicao_3            [[17.0, 16.0, 18.0, 9.0, 0.0, 5.0, 19.0, 10.0,...  "
      ]
     },
     "metadata": {},
     "output_type": "display_data"
    }
   ],
   "source": [
    "details = resumo(dataset)\n",
    "display(details.sort_values(by='Nulos', ascending=False))"
   ]
  },
  {
   "cell_type": "code",
   "execution_count": 42,
   "metadata": {},
   "outputs": [
    {
     "name": "stdout",
     "output_type": "stream",
     "text": [
      "O datasset, antes do préprocesamento continha 2075259 observações e 9 variáveis, o novo tamanho do datasset é : 2049280 linhas e 9 colunas. Foram removidas 25979 observações, ou seja 1.2518437457686005%\n"
     ]
    }
   ],
   "source": [
    "print(\"O datasset, antes do préprocesamento continha {} observações e {} variáveis, o novo tamanho do datasset é : {} linhas e {} colunas. Foram removidas {} observações, ou seja {}%\".format(nl1,nc1,nl2,nc2,nl1-nl2,((nl1-nl2)/nl1)*100 ))"
   ]
  },
  {
   "cell_type": "markdown",
   "metadata": {},
   "source": [
    "### 2. Coletar uma amostra de 1% dos dados para criar o modelo de clusterização com o K-Means <a class=\"anchor\" id=\"2\"></a>\n",
    "\n",
    "[](#0.1)"
   ]
  },
  {
   "cell_type": "code",
   "execution_count": 43,
   "metadata": {},
   "outputs": [
    {
     "data": {
      "text/html": [
       "<div>\n",
       "<style scoped>\n",
       "    .dataframe tbody tr th:only-of-type {\n",
       "        vertical-align: middle;\n",
       "    }\n",
       "\n",
       "    .dataframe tbody tr th {\n",
       "        vertical-align: top;\n",
       "    }\n",
       "\n",
       "    .dataframe thead th {\n",
       "        text-align: right;\n",
       "    }\n",
       "</style>\n",
       "<table border=\"1\" class=\"dataframe\">\n",
       "  <thead>\n",
       "    <tr style=\"text-align: right;\">\n",
       "      <th></th>\n",
       "      <th>Potencia_ativa_global</th>\n",
       "      <th>Potencia_reativa_global</th>\n",
       "      <th>Voltagem</th>\n",
       "      <th>Intensidade_global</th>\n",
       "      <th>Sub-medicao_1</th>\n",
       "      <th>Sub-medicao_2</th>\n",
       "      <th>Sub-medicao_3</th>\n",
       "    </tr>\n",
       "  </thead>\n",
       "  <tbody>\n",
       "    <tr>\n",
       "      <th>0</th>\n",
       "      <td>4.216</td>\n",
       "      <td>0.418</td>\n",
       "      <td>234.84</td>\n",
       "      <td>18.4</td>\n",
       "      <td>0.0</td>\n",
       "      <td>1.0</td>\n",
       "      <td>17.0</td>\n",
       "    </tr>\n",
       "    <tr>\n",
       "      <th>1</th>\n",
       "      <td>5.360</td>\n",
       "      <td>0.436</td>\n",
       "      <td>233.63</td>\n",
       "      <td>23.0</td>\n",
       "      <td>0.0</td>\n",
       "      <td>1.0</td>\n",
       "      <td>16.0</td>\n",
       "    </tr>\n",
       "    <tr>\n",
       "      <th>2</th>\n",
       "      <td>5.374</td>\n",
       "      <td>0.498</td>\n",
       "      <td>233.29</td>\n",
       "      <td>23.0</td>\n",
       "      <td>0.0</td>\n",
       "      <td>2.0</td>\n",
       "      <td>17.0</td>\n",
       "    </tr>\n",
       "    <tr>\n",
       "      <th>3</th>\n",
       "      <td>5.388</td>\n",
       "      <td>0.502</td>\n",
       "      <td>233.74</td>\n",
       "      <td>23.0</td>\n",
       "      <td>0.0</td>\n",
       "      <td>1.0</td>\n",
       "      <td>17.0</td>\n",
       "    </tr>\n",
       "    <tr>\n",
       "      <th>4</th>\n",
       "      <td>3.666</td>\n",
       "      <td>0.528</td>\n",
       "      <td>235.68</td>\n",
       "      <td>15.8</td>\n",
       "      <td>0.0</td>\n",
       "      <td>1.0</td>\n",
       "      <td>17.0</td>\n",
       "    </tr>\n",
       "  </tbody>\n",
       "</table>\n",
       "</div>"
      ],
      "text/plain": [
       "   Potencia_ativa_global  Potencia_reativa_global  Voltagem  \\\n",
       "0                  4.216                    0.418    234.84   \n",
       "1                  5.360                    0.436    233.63   \n",
       "2                  5.374                    0.498    233.29   \n",
       "3                  5.388                    0.502    233.74   \n",
       "4                  3.666                    0.528    235.68   \n",
       "\n",
       "   Intensidade_global  Sub-medicao_1  Sub-medicao_2  Sub-medicao_3  \n",
       "0                18.4            0.0            1.0           17.0  \n",
       "1                23.0            0.0            1.0           16.0  \n",
       "2                23.0            0.0            2.0           17.0  \n",
       "3                23.0            0.0            1.0           17.0  \n",
       "4                15.8            0.0            1.0           17.0  "
      ]
     },
     "execution_count": 43,
     "metadata": {},
     "output_type": "execute_result"
    }
   ],
   "source": [
    "dataset2=dataset.drop(['Data', 'Hora'], axis=1\n",
    "#                       ,inplace=True\n",
    "                     )\n",
    "dataset2.head(5)"
   ]
  },
  {
   "cell_type": "code",
   "execution_count": 44,
   "metadata": {},
   "outputs": [],
   "source": [
    "# Coleta uma amostra de 1% dos dados para não comprometer a memória do computador\n",
    "amostra1, amostra2 = train_test_split(dataset2, train_size = .01)"
   ]
  },
  {
   "cell_type": "code",
   "execution_count": 45,
   "metadata": {},
   "outputs": [
    {
     "name": "stdout",
     "output_type": "stream",
     "text": [
      "O tamanho da amostra1 é de (20492, 7) e da amostra2 é de(2028788, 7)\n"
     ]
    }
   ],
   "source": [
    "print(\"O tamanho da amostra1 é de {} e da amostra2 é de{}\".format(amostra1.shape,amostra2.shape))"
   ]
  },
  {
   "cell_type": "markdown",
   "metadata": {},
   "source": [
    "### 3. Encontrar o melhor valor de K para esse conjunto de dados <a class=\"anchor\" id=\"3\"></a>\n",
    "\n",
    "[](#0.1)"
   ]
  },
  {
   "cell_type": "markdown",
   "metadata": {},
   "source": [
    "Para o método de agrupamento k-means, a abordagem mais comum para responder a essa pergunta é o chamado método de elbow (cotovelo). Isso envolve executar o algoritmo várias vezes em um loop, com um número crescente de opções de cluster e, em seguida, plotar uma pontuação de cluster como uma função do número de clusters.\n",
    "\n",
    "A pontuação é, em geral, alguma forma de distância entre clusters em relação à distância interna do cluster ."
   ]
  },
  {
   "cell_type": "code",
   "execution_count": 58,
   "metadata": {},
   "outputs": [],
   "source": [
    "# Aplica redução de dimensionalidade\n",
    "pca = PCA(n_components = 2).fit_transform(amostra1)"
   ]
  },
  {
   "cell_type": "code",
   "execution_count": 59,
   "metadata": {},
   "outputs": [],
   "source": [
    "pca=pd.DataFrame(pca,columns=['Componente 1','Componente 2'])"
   ]
  },
  {
   "cell_type": "code",
   "execution_count": 60,
   "metadata": {},
   "outputs": [
    {
     "data": {
      "text/plain": [
       "<matplotlib.axes._subplots.AxesSubplot at 0x178165fc688>"
      ]
     },
     "execution_count": 60,
     "metadata": {},
     "output_type": "execute_result"
    },
    {
     "data": {
      "image/png": "[encoded data removed]",
      "text/plain": [
       "<Figure size 432x288 with 1 Axes>"
      ]
     },
     "metadata": {
      "needs_background": "light"
     },
     "output_type": "display_data"
    }
   ],
   "source": [
    "pca.plot(x ='Componente 1', y='Componente 2', kind = 'scatter')"
   ]
  },
  {
   "cell_type": "code",
   "execution_count": 50,
   "metadata": {},
   "outputs": [],
   "source": [
    "# Determinando um range de K\n",
    "k_range = range(1,12)\n",
    "# Aplicando o modelo K-Means para cada valor de K\n",
    "k_means_var = [KMeans(n_clusters = k).fit(pca) for k in k_range]"
   ]
  },
  {
   "cell_type": "code",
   "execution_count": 52,
   "metadata": {},
   "outputs": [],
   "source": [
    "# Ajustando o centróide do cluster para cada modelo\n",
    "centroids = [X.cluster_centers_ for X in k_means_var]"
   ]
  },
  {
   "cell_type": "code",
   "execution_count": 53,
   "metadata": {},
   "outputs": [],
   "source": [
    "# Calculando a distância euclidiana de cada ponto de dado para o centróide\n",
    "k_euclid = [cdist(pca, cent, 'euclidean') for cent in centroids]\n",
    "dist = [np.min(ke, axis = 1) for ke in k_euclid]"
   ]
  },
  {
   "cell_type": "code",
   "execution_count": 54,
   "metadata": {},
   "outputs": [],
   "source": [
    "# Soma dos quadrados das distâncias dentro do cluster\n",
    "soma_quadrados_intra_cluster = [sum(d**2) for d in dist]"
   ]
  },
  {
   "cell_type": "code",
   "execution_count": 55,
   "metadata": {},
   "outputs": [],
   "source": [
    "# Soma total dos quadrados\n",
    "soma_total = sum(pdist(pca)**2)/pca.shape[0]"
   ]
  },
  {
   "cell_type": "code",
   "execution_count": 56,
   "metadata": {},
   "outputs": [],
   "source": [
    "# Soma dos quadrados entre clusters\n",
    "soma_quadrados_inter_cluster = soma_total - soma_quadrados_intra_cluster"
   ]
  },
  {
   "cell_type": "code",
   "execution_count": 57,
   "metadata": {},
   "outputs": [
    {
     "data": {
      "text/plain": [
       "Text(0.5, 1.0, 'Variância Explicada x Valor de K')"
      ]
     },
     "execution_count": 57,
     "metadata": {},
     "output_type": "execute_result"
    },
    {
     "data": {
      "image/png": "[encoded data removed]",
      "text/plain": [
       "<Figure size 432x288 with 1 Axes>"
      ]
     },
     "metadata": {
      "needs_background": "light"
     },
     "output_type": "display_data"
    }
   ],
   "source": [
    "# Curva de Elbow\n",
    "fig = plt.figure()\n",
    "ax = fig.add_subplot(111)\n",
    "ax.plot(k_range, soma_quadrados_inter_cluster/soma_total * 100, 'b*-')\n",
    "ax.set_ylim((0,100))\n",
    "plt.grid(True)\n",
    "plt.xlabel('Número de Clusters')\n",
    "plt.ylabel('Percentual de Variância Explicada')\n",
    "plt.title('Variância Explicada x Valor de K')"
   ]
  },
  {
   "cell_type": "markdown",
   "metadata": {},
   "source": [
    "### 4. Criar o modelo K-Means usando o valor de K encontrado no item 3 <a class=\"anchor\" id=\"4\"></a>\n",
    "\n",
    "[](#0.1)"
   ]
  },
  {
   "cell_type": "code",
   "execution_count": 61,
   "metadata": {},
   "outputs": [
    {
     "data": {
      "text/plain": [
       "KMeans(algorithm='auto', copy_x=True, init='k-means++', max_iter=300,\n",
       "       n_clusters=5, n_init=10, n_jobs=None, precompute_distances='auto',\n",
       "       random_state=None, tol=0.0001, verbose=0)"
      ]
     },
     "execution_count": 61,
     "metadata": {},
     "output_type": "execute_result"
    }
   ],
   "source": [
    "# Criando um modelo com K = 5\n",
    "modelo_v1 = KMeans(n_clusters = 5)\n",
    "modelo_v1.fit(pca)"
   ]
  },
  {
   "cell_type": "markdown",
   "metadata": {},
   "source": [
    "### 5. Criar um Meshgrid para visualização de todos os clusters <a class=\"anchor\" id=\"5\"></a>\n",
    "\n",
    "[](#0.1)"
   ]
  },
  {
   "cell_type": "code",
   "execution_count": 62,
   "metadata": {},
   "outputs": [],
   "source": [
    "# Obtém os valores mínimos e máximos e organiza o shape\n",
    "x_min, x_max = pca.iloc[:, 0].min() - 5, pca.iloc[:, 0].max() - 1\n",
    "y_min, y_max = pca.iloc[:, 1].min() + 1, pca.iloc[:, 1].max() + 5\n",
    "xx, yy = np.meshgrid(np.arange(x_min, x_max, .02), np.arange(y_min, y_max, .02))\n",
    "Z = modelo_v1.predict(np.c_[xx.ravel(), yy.ravel()])\n",
    "Z = Z.reshape(xx.shape)"
   ]
  },
  {
   "cell_type": "code",
   "execution_count": 63,
   "metadata": {},
   "outputs": [
    {
     "data": {
      "text/plain": [
       "<matplotlib.image.AxesImage at 0x1782c163a88>"
      ]
     },
     "execution_count": 63,
     "metadata": {},
     "output_type": "execute_result"
    },
    {
     "data": {
      "image/png": "[encoded data removed]",
      "text/plain": [
       "<Figure size 432x288 with 1 Axes>"
      ]
     },
     "metadata": {
      "needs_background": "light"
     },
     "output_type": "display_data"
    }
   ],
   "source": [
    "# Plot das áreas dos clusters\n",
    "plt.figure(1)\n",
    "plt.clf()\n",
    "plt.imshow(Z, \n",
    "           interpolation = 'nearest',\n",
    "           extent = (xx.min(), xx.max(), yy.min(), yy.max()),\n",
    "           cmap = plt.cm.Paired,\n",
    "           aspect = 'auto', \n",
    "           origin = 'lower')"
   ]
  },
  {
   "cell_type": "markdown",
   "metadata": {},
   "source": [
    "### 6. Visualizar os centróides <a class=\"anchor\" id=\"6\"></a>\n",
    "\n",
    "[](#0.1)"
   ]
  },
  {
   "cell_type": "code",
   "execution_count": 64,
   "metadata": {},
   "outputs": [
    {
     "data": {
      "image/png": "[encoded data removed]",
      "text/plain": [
       "<Figure size 432x288 with 1 Axes>"
      ]
     },
     "metadata": {},
     "output_type": "display_data"
    }
   ],
   "source": [
    "# Plot dos centróides\n",
    "plt.plot(pca.iloc[:, 0], pca.iloc[:, 1], 'k.', markersize = 4)\n",
    "centroids = modelo_v1.cluster_centers_\n",
    "inert = modelo_v1.inertia_\n",
    "plt.scatter(centroids[:, 0], centroids[:, 1], marker = 'x', s = 169, linewidths = 3, color = 'r', zorder = 8)\n",
    "plt.xticks(())\n",
    "plt.yticks(())\n",
    "plt.xlabel('Componente 1')\n",
    "plt.ylabel('Componente 2')\n",
    "plt.title('Centróides')\n",
    "plt.show()"
   ]
  },
  {
   "cell_type": "code",
   "execution_count": 65,
   "metadata": {},
   "outputs": [
    {
     "data": {
      "image/png": "[encoded data removed]",
      "text/plain": [
       "<Figure size 500x400 with 1 Axes>"
      ]
     },
     "metadata": {
      "needs_background": "light"
     },
     "output_type": "display_data"
    },
    {
     "data": {
      "text/plain": [
       "<Figure size 432x288 with 0 Axes>"
      ]
     },
     "metadata": {},
     "output_type": "display_data"
    }
   ],
   "source": [
    "# Obtém os valores mínimos e máximos e organiza o shape\n",
    "x_min, x_max = pca.iloc[:, 0].min(), pca.iloc[:, 0].max()\n",
    "y_min, y_max = pca.iloc[:, 1].min(), pca.iloc[:, 1].max()\n",
    "xx, yy = np.meshgrid(np.arange(x_min, x_max, .02), np.arange(y_min, y_max, .02))\n",
    "Z = modelo_v1.predict(np.c_[xx.ravel(), yy.ravel()])\n",
    "Z = Z.reshape(xx.shape)\n",
    "## Plotting\n",
    "fig = plt.figure(figsize=(5,4),dpi=100)\n",
    "ax = fig.add_subplot(111)\n",
    "fig.subplots_adjust(top=0.85)\n",
    "\n",
    "#Plot dos Clusters\n",
    "colors = [\"black\", \"green\", \"blue\",\"yellow\",\"orange\"]\n",
    "pca2=pca\n",
    "pca2['cluster'] = modelo_v1.labels_\n",
    "pca2['color'] = pca['cluster'].map(lambda p: colors[p])\n",
    "pca2.plot(kind=\"scatter\", x=\"Componente 1\", y=\"Componente 2\",c = pca2['color'],ax=ax)\n",
    "\n",
    "#Plot dos Centroides\n",
    "centroids = modelo_v1.cluster_centers_\n",
    "ax.scatter(centroids[:, 0], centroids[:, 1], marker = 'x', s = 169, linewidths = 3, color = 'r', zorder = 8)\n",
    "\n",
    "#Plot das áreas\n",
    "ax.imshow(Z, \n",
    "           interpolation = 'nearest',\n",
    "           extent = (xx.min(), xx.max(), yy.min(), yy.max()),\n",
    "           cmap = plt.cm.Paired,\n",
    "           aspect = 'auto', \n",
    "           origin = 'lower')\n",
    "# Gire os rótulos dos marcadores e defina seu alinhamento. \n",
    "plt.setp(ax.get_xticklabels(), rotation=45, ha=\"right\",rotation_mode=\"anchor\")\n",
    "\n",
    "# adiciona um título e os rótulos dos eixos \n",
    "# fig.suptitle('Heatmap Correlação entre marcadores', fontsize=14, fontweight='bold')\n",
    "ax.tick_params(labelsize=12)\n",
    "ax.set_title('Clusters - K-Means',fontsize=12,**{'weight' : 'bold'},pad=20)\n",
    "ax.set_xlabel(\"Componente 1\",fontsize=10)\n",
    "ax.set_ylabel(\"Componente 2\",fontsize=10)\n",
    "\n",
    "ax.tick_params(labelsize=10)\n",
    "\n",
    "# ax.figure.subplots_adjust(left = 0.3) # change 0.3 to suit your needs\n",
    "plt.show()\n",
    "plt.savefig('cluster.png',dpi=300,transparent=True)"
   ]
  },
  {
   "cell_type": "markdown",
   "metadata": {},
   "source": [
    "### 7. Calcular o Silhoutte Score <a class=\"anchor\" id=\"7\"></a>\n",
    "\n",
    "[](#0.1)"
   ]
  },
  {
   "cell_type": "markdown",
   "metadata": {},
   "source": [
    "#### silhouette_score\n",
    "\n",
    "Calcule o coeficiente médio da silhueta de todas as amostras.\n",
    "\n",
    "O coeficiente da silhueta é calculado usando a distância intra-cluster média (a) e a distância média do cluster mais próximo (b) para cada amostra. O coeficiente de silhueta para uma amostra é  a distância entre uma amostra e o cluster mais próximo do qual a amostra não faz parte. \n",
    "O melhor valor é 1 e o pior valor é -1. Valores próximos a 0 indicam clusters sobrepostos. Valores negativos geralmente indicam que uma amostra foi atribuída ao cluster errado, pois um cluster diferente é mais semelhante."
   ]
  },
  {
   "cell_type": "code",
   "execution_count": 66,
   "metadata": {},
   "outputs": [],
   "source": [
    "pca.drop(['cluster','color'],axis=1,inplace=True)"
   ]
  },
  {
   "cell_type": "code",
   "execution_count": 67,
   "metadata": {},
   "outputs": [
    {
     "data": {
      "text/plain": [
       "0.8580226866178577"
      ]
     },
     "execution_count": 67,
     "metadata": {},
     "output_type": "execute_result"
    }
   ],
   "source": [
    "# Silhouette Score\n",
    "labels = modelo_v1.labels_\n",
    "silhouette_score(pca, labels, metric = 'euclidean')"
   ]
  },
  {
   "cell_type": "code",
   "execution_count": 68,
   "metadata": {},
   "outputs": [],
   "source": [
    "# Silhouette Score\n",
    "# Determinando um range de K\n",
    "k_range = range(2,12)\n",
    "# Aplicando o modelo K-Means para cada valor de K (esta célula pode levar bastante tempo para ser executada)\n",
    "k_means_Silhouette = [silhouette_score(pca, KMeans(n_clusters = k).fit(pca).labels_, metric = 'euclidean') for k in k_range]"
   ]
  },
  {
   "cell_type": "code",
   "execution_count": 69,
   "metadata": {},
   "outputs": [
    {
     "data": {
      "text/plain": [
       "Text(0.5, 1.0, 'Silhouette_score x Valor de K')"
      ]
     },
     "execution_count": 69,
     "metadata": {},
     "output_type": "execute_result"
    },
    {
     "data": {
      "image/png": "[encoded data removed]",
      "text/plain": [
       "<Figure size 432x288 with 1 Axes>"
      ]
     },
     "metadata": {
      "needs_background": "light"
     },
     "output_type": "display_data"
    }
   ],
   "source": [
    "\n",
    "fig = plt.figure()\n",
    "ax = fig.add_subplot(111)\n",
    "ax.plot(k_range, k_means_Silhouette, 'b*-')\n",
    "plt.grid(True)\n",
    "plt.xlabel('Número de Clusters')\n",
    "plt.ylabel('silhouette_score')\n",
    "plt.title('Silhouette_score x Valor de K')"
   ]
  },
  {
   "cell_type": "markdown",
   "metadata": {},
   "source": [
    "Observe que para k=5, temos um valor de silhouette_score mais próximo de 1 (>0.85) e também apresenta um percentual de variância explicada acima de 90."
   ]
  },
  {
   "cell_type": "markdown",
   "metadata": {},
   "source": [
    "### 8. Calcular a média de consumo de energia por cluster (usar a coluna Global_active_power para o cálculo da média) <a class=\"anchor\" id=\"8\"></a>\n",
    "\n",
    "[](#0.1)"
   ]
  },
  {
   "cell_type": "code",
   "execution_count": 83,
   "metadata": {},
   "outputs": [
    {
     "data": {
      "text/plain": [
       "KMeans(algorithm='auto', copy_x=True, init='k-means++', max_iter=300,\n",
       "       n_clusters=5, n_init=10, n_jobs=None, precompute_distances='auto',\n",
       "       random_state=None, tol=0.0001, verbose=0)"
      ]
     },
     "execution_count": 83,
     "metadata": {},
     "output_type": "execute_result"
    }
   ],
   "source": [
    "# Criando um modelo com K = 5\n",
    "best_modelo = KMeans(n_clusters = 5)\n",
    "best_modelo.fit(pca)"
   ]
  },
  {
   "cell_type": "code",
   "execution_count": 84,
   "metadata": {},
   "outputs": [],
   "source": [
    "# Cria o cluster map\n",
    "cluster_map = amostra1\n",
    "cluster_map['cluster'] = modelo_v1.labels_"
   ]
  },
  {
   "cell_type": "code",
   "execution_count": 85,
   "metadata": {},
   "outputs": [
    {
     "data": {
      "text/html": [
       "<div>\n",
       "<style scoped>\n",
       "    .dataframe tbody tr th:only-of-type {\n",
       "        vertical-align: middle;\n",
       "    }\n",
       "\n",
       "    .dataframe tbody tr th {\n",
       "        vertical-align: top;\n",
       "    }\n",
       "\n",
       "    .dataframe thead th {\n",
       "        text-align: right;\n",
       "    }\n",
       "</style>\n",
       "<table border=\"1\" class=\"dataframe\">\n",
       "  <thead>\n",
       "    <tr style=\"text-align: right;\">\n",
       "      <th></th>\n",
       "      <th>Potencia_ativa_global</th>\n",
       "      <th>Potencia_reativa_global</th>\n",
       "      <th>Voltagem</th>\n",
       "      <th>Intensidade_global</th>\n",
       "      <th>Sub-medicao_1</th>\n",
       "      <th>Sub-medicao_2</th>\n",
       "      <th>Sub-medicao_3</th>\n",
       "      <th>cluster</th>\n",
       "    </tr>\n",
       "  </thead>\n",
       "  <tbody>\n",
       "    <tr>\n",
       "      <th>1123316</th>\n",
       "      <td>1.964</td>\n",
       "      <td>0.120</td>\n",
       "      <td>243.74</td>\n",
       "      <td>8.0</td>\n",
       "      <td>0.0</td>\n",
       "      <td>0.0</td>\n",
       "      <td>0.0</td>\n",
       "      <td>0</td>\n",
       "    </tr>\n",
       "    <tr>\n",
       "      <th>744483</th>\n",
       "      <td>0.428</td>\n",
       "      <td>0.108</td>\n",
       "      <td>239.66</td>\n",
       "      <td>1.8</td>\n",
       "      <td>0.0</td>\n",
       "      <td>2.0</td>\n",
       "      <td>0.0</td>\n",
       "      <td>0</td>\n",
       "    </tr>\n",
       "    <tr>\n",
       "      <th>1138415</th>\n",
       "      <td>2.360</td>\n",
       "      <td>0.000</td>\n",
       "      <td>239.65</td>\n",
       "      <td>10.2</td>\n",
       "      <td>0.0</td>\n",
       "      <td>0.0</td>\n",
       "      <td>0.0</td>\n",
       "      <td>0</td>\n",
       "    </tr>\n",
       "    <tr>\n",
       "      <th>1319215</th>\n",
       "      <td>0.428</td>\n",
       "      <td>0.236</td>\n",
       "      <td>242.76</td>\n",
       "      <td>2.0</td>\n",
       "      <td>0.0</td>\n",
       "      <td>0.0</td>\n",
       "      <td>1.0</td>\n",
       "      <td>0</td>\n",
       "    </tr>\n",
       "    <tr>\n",
       "      <th>653594</th>\n",
       "      <td>1.462</td>\n",
       "      <td>0.058</td>\n",
       "      <td>245.57</td>\n",
       "      <td>5.8</td>\n",
       "      <td>0.0</td>\n",
       "      <td>2.0</td>\n",
       "      <td>18.0</td>\n",
       "      <td>1</td>\n",
       "    </tr>\n",
       "  </tbody>\n",
       "</table>\n",
       "</div>"
      ],
      "text/plain": [
       "         Potencia_ativa_global  Potencia_reativa_global  Voltagem  \\\n",
       "1123316                  1.964                    0.120    243.74   \n",
       "744483                   0.428                    0.108    239.66   \n",
       "1138415                  2.360                    0.000    239.65   \n",
       "1319215                  0.428                    0.236    242.76   \n",
       "653594                   1.462                    0.058    245.57   \n",
       "\n",
       "         Intensidade_global  Sub-medicao_1  Sub-medicao_2  Sub-medicao_3  \\\n",
       "1123316                 8.0            0.0            0.0            0.0   \n",
       "744483                  1.8            0.0            2.0            0.0   \n",
       "1138415                10.2            0.0            0.0            0.0   \n",
       "1319215                 2.0            0.0            0.0            1.0   \n",
       "653594                  5.8            0.0            2.0           18.0   \n",
       "\n",
       "         cluster  \n",
       "1123316        0  \n",
       "744483         0  \n",
       "1138415        0  \n",
       "1319215        0  \n",
       "653594         1  "
      ]
     },
     "execution_count": 85,
     "metadata": {},
     "output_type": "execute_result"
    }
   ],
   "source": [
    "cluster_map.head()"
   ]
  },
  {
   "cell_type": "code",
   "execution_count": 86,
   "metadata": {},
   "outputs": [
    {
     "data": {
      "text/html": [
       "<div>\n",
       "<style scoped>\n",
       "    .dataframe tbody tr th:only-of-type {\n",
       "        vertical-align: middle;\n",
       "    }\n",
       "\n",
       "    .dataframe tbody tr th {\n",
       "        vertical-align: top;\n",
       "    }\n",
       "\n",
       "    .dataframe thead th {\n",
       "        text-align: right;\n",
       "    }\n",
       "</style>\n",
       "<table border=\"1\" class=\"dataframe\">\n",
       "  <thead>\n",
       "    <tr style=\"text-align: right;\">\n",
       "      <th></th>\n",
       "      <th>cluster</th>\n",
       "      <th>Potencia_ativa_global</th>\n",
       "      <th>Potencia_reativa_global</th>\n",
       "      <th>Voltagem</th>\n",
       "      <th>Intensidade_global</th>\n",
       "      <th>Sub-medicao_1</th>\n",
       "      <th>Sub-medicao_2</th>\n",
       "      <th>Sub-medicao_3</th>\n",
       "    </tr>\n",
       "  </thead>\n",
       "  <tbody>\n",
       "    <tr>\n",
       "      <th>0</th>\n",
       "      <td>0</td>\n",
       "      <td>0.506079</td>\n",
       "      <td>0.111812</td>\n",
       "      <td>241.624478</td>\n",
       "      <td>2.201395</td>\n",
       "      <td>0.040155</td>\n",
       "      <td>0.426977</td>\n",
       "      <td>0.412636</td>\n",
       "    </tr>\n",
       "    <tr>\n",
       "      <th>1</th>\n",
       "      <td>1</td>\n",
       "      <td>1.787754</td>\n",
       "      <td>0.131433</td>\n",
       "      <td>239.881089</td>\n",
       "      <td>7.456928</td>\n",
       "      <td>0.133344</td>\n",
       "      <td>0.448826</td>\n",
       "      <td>17.922357</td>\n",
       "    </tr>\n",
       "    <tr>\n",
       "      <th>2</th>\n",
       "      <td>2</td>\n",
       "      <td>2.874363</td>\n",
       "      <td>0.176699</td>\n",
       "      <td>238.496933</td>\n",
       "      <td>12.261333</td>\n",
       "      <td>20.592000</td>\n",
       "      <td>14.138667</td>\n",
       "      <td>0.410667</td>\n",
       "    </tr>\n",
       "    <tr>\n",
       "      <th>3</th>\n",
       "      <td>3</td>\n",
       "      <td>3.745076</td>\n",
       "      <td>0.207505</td>\n",
       "      <td>237.729969</td>\n",
       "      <td>15.976758</td>\n",
       "      <td>3.477064</td>\n",
       "      <td>26.125382</td>\n",
       "      <td>17.773700</td>\n",
       "    </tr>\n",
       "    <tr>\n",
       "      <th>4</th>\n",
       "      <td>4</td>\n",
       "      <td>4.627383</td>\n",
       "      <td>0.193753</td>\n",
       "      <td>236.198231</td>\n",
       "      <td>19.621984</td>\n",
       "      <td>34.002681</td>\n",
       "      <td>10.613941</td>\n",
       "      <td>16.048257</td>\n",
       "    </tr>\n",
       "  </tbody>\n",
       "</table>\n",
       "</div>"
      ],
      "text/plain": [
       "   cluster  Potencia_ativa_global  Potencia_reativa_global    Voltagem  \\\n",
       "0        0               0.506079                 0.111812  241.624478   \n",
       "1        1               1.787754                 0.131433  239.881089   \n",
       "2        2               2.874363                 0.176699  238.496933   \n",
       "3        3               3.745076                 0.207505  237.729969   \n",
       "4        4               4.627383                 0.193753  236.198231   \n",
       "\n",
       "   Intensidade_global  Sub-medicao_1  Sub-medicao_2  Sub-medicao_3  \n",
       "0            2.201395       0.040155       0.426977       0.412636  \n",
       "1            7.456928       0.133344       0.448826      17.922357  \n",
       "2           12.261333      20.592000      14.138667       0.410667  \n",
       "3           15.976758       3.477064      26.125382      17.773700  \n",
       "4           19.621984      34.002681      10.613941      16.048257  "
      ]
     },
     "execution_count": 86,
     "metadata": {},
     "output_type": "execute_result"
    }
   ],
   "source": [
    "cluster_map.groupby(['cluster'], as_index=False).mean()\n",
    "# cluster_map.groupby(['cluster'], as_index=False)[['Potencia_ativa_global']].mean()"
   ]
  },
  {
   "cell_type": "code",
   "execution_count": null,
   "metadata": {},
   "outputs": [],
   "source": []
  }
 ],
 "metadata": {
  "anaconda-cloud": {},
  "kernelspec": {
   "display_name": "Python 3",
   "language": "python",
   "name": "python3"
  },
  "language_info": {
   "codemirror_mode": {
    "name": "ipython",
    "version": 3
   },
   "file_extension": ".py",
   "mimetype": "text/x-python",
   "name": "python",
   "nbconvert_exporter": "python",
   "pygments_lexer": "ipython3",
   "version": "3.7.6"
  }
 },
 "nbformat": 4,
 "nbformat_minor": 1
}
